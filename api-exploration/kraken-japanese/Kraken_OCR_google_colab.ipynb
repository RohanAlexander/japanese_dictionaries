{
  "nbformat": 4,
  "nbformat_minor": 0,
  "metadata": {
    "colab": {
      "name": "Kraken OCR.ipynb",
      "provenance": []
    },
    "kernelspec": {
      "name": "python3",
      "display_name": "Python 3"
    }
  },
  "cells": [
    {
      "cell_type": "code",
      "metadata": {
        "id": "gD_Y4q7to-vW",
        "outputId": "1c5fc524-c366-451e-d2af-ced86f34ded2",
        "colab": {
          "base_uri": "https://localhost:8080/",
          "height": 768
        }
      },
      "source": [
        "pip install kraken"
      ],
      "execution_count": 2,
      "outputs": [
        {
          "output_type": "stream",
          "text": [
            "Collecting kraken\n",
            "\u001b[?25l  Downloading https://files.pythonhosted.org/packages/5f/3d/fcfdf98946cf25ec8991390e870bbce56db4399185acd035ebfb17b4e95a/kraken-2.0.8-py3-none-any.whl (643kB)\n",
            "\u001b[K     |████████████████████████████████| 645kB 3.3MB/s \n",
            "\u001b[?25hRequirement already satisfied: torchvision in /usr/local/lib/python3.6/dist-packages (from kraken) (0.7.0+cu101)\n",
            "Requirement already satisfied: jsonschema in /usr/local/lib/python3.6/dist-packages (from kraken) (2.6.0)\n",
            "Requirement already satisfied: Pillow in /usr/local/lib/python3.6/dist-packages (from kraken) (7.0.0)\n",
            "Requirement already satisfied: regex in /usr/local/lib/python3.6/dist-packages (from kraken) (2019.12.20)\n",
            "Collecting python-bidi\n",
            "  Downloading https://files.pythonhosted.org/packages/33/b0/f942d146a2f457233baaafd6bdf624eba8e0f665045b4abd69d1b62d097d/python_bidi-0.4.2-py2.py3-none-any.whl\n",
            "Requirement already satisfied: scipy in /usr/local/lib/python3.6/dist-packages (from kraken) (1.4.1)\n",
            "Requirement already satisfied: future in /usr/local/lib/python3.6/dist-packages (from kraken) (0.16.0)\n",
            "Collecting coremltools\n",
            "\u001b[?25l  Downloading https://files.pythonhosted.org/packages/f1/30/32f5bce33571b00f8e43e290bb4a9561956bc7f35b96dcd48f300029b23f/coremltools-4.0-cp36-none-manylinux1_x86_64.whl (3.4MB)\n",
            "\u001b[K     |████████████████████████████████| 3.4MB 17.7MB/s \n",
            "\u001b[?25hRequirement already satisfied: numpy in /usr/local/lib/python3.6/dist-packages (from kraken) (1.18.5)\n",
            "Requirement already satisfied: lxml in /usr/local/lib/python3.6/dist-packages (from kraken) (4.2.6)\n",
            "Requirement already satisfied: protobuf>=3.0.0 in /usr/local/lib/python3.6/dist-packages (from kraken) (3.12.4)\n",
            "Requirement already satisfied: jinja2 in /usr/local/lib/python3.6/dist-packages (from kraken) (2.11.2)\n",
            "Requirement already satisfied: torch>=1.0.0 in /usr/local/lib/python3.6/dist-packages (from kraken) (1.6.0+cu101)\n",
            "Requirement already satisfied: click>=7.0 in /usr/local/lib/python3.6/dist-packages (from kraken) (7.1.2)\n",
            "Requirement already satisfied: requests in /usr/local/lib/python3.6/dist-packages (from kraken) (2.23.0)\n",
            "Requirement already satisfied: six in /usr/local/lib/python3.6/dist-packages (from python-bidi->kraken) (1.15.0)\n",
            "Collecting attr\n",
            "  Downloading https://files.pythonhosted.org/packages/de/be/ddc7f84d4e087144472a38a373d3e319f51a6faf6e5fc1ae897173675f21/attr-0.3.1.tar.gz\n",
            "Requirement already satisfied: packaging in /usr/local/lib/python3.6/dist-packages (from coremltools->kraken) (20.4)\n",
            "Requirement already satisfied: sympy in /usr/local/lib/python3.6/dist-packages (from coremltools->kraken) (1.1.1)\n",
            "Requirement already satisfied: attrs in /usr/local/lib/python3.6/dist-packages (from coremltools->kraken) (20.2.0)\n",
            "Requirement already satisfied: tqdm in /usr/local/lib/python3.6/dist-packages (from coremltools->kraken) (4.41.1)\n",
            "Requirement already satisfied: setuptools in /usr/local/lib/python3.6/dist-packages (from protobuf>=3.0.0->kraken) (50.3.0)\n",
            "Requirement already satisfied: MarkupSafe>=0.23 in /usr/local/lib/python3.6/dist-packages (from jinja2->kraken) (1.1.1)\n",
            "Requirement already satisfied: urllib3!=1.25.0,!=1.25.1,<1.26,>=1.21.1 in /usr/local/lib/python3.6/dist-packages (from requests->kraken) (1.24.3)\n",
            "Requirement already satisfied: idna<3,>=2.5 in /usr/local/lib/python3.6/dist-packages (from requests->kraken) (2.10)\n",
            "Requirement already satisfied: chardet<4,>=3.0.2 in /usr/local/lib/python3.6/dist-packages (from requests->kraken) (3.0.4)\n",
            "Requirement already satisfied: certifi>=2017.4.17 in /usr/local/lib/python3.6/dist-packages (from requests->kraken) (2020.6.20)\n",
            "Requirement already satisfied: pyparsing>=2.0.2 in /usr/local/lib/python3.6/dist-packages (from packaging->coremltools->kraken) (2.4.7)\n",
            "Requirement already satisfied: mpmath>=0.19 in /usr/local/lib/python3.6/dist-packages (from sympy->coremltools->kraken) (1.1.0)\n",
            "Building wheels for collected packages: attr\n",
            "  Building wheel for attr (setup.py) ... \u001b[?25l\u001b[?25hdone\n",
            "  Created wheel for attr: filename=attr-0.3.1-cp36-none-any.whl size=2458 sha256=f211ebbf1c8e71aee410aaf5af98ee304221bb356215f5252fe80100cf101649\n",
            "  Stored in directory: /root/.cache/pip/wheels/f0/96/9b/1f8892a707d17095b5a6eab0275da9d39e68e03a26aee2e726\n",
            "Successfully built attr\n",
            "Installing collected packages: python-bidi, attr, coremltools, kraken\n",
            "Successfully installed attr-0.3.1 coremltools-4.0 kraken-2.0.8 python-bidi-0.4.2\n"
          ],
          "name": "stdout"
        }
      ]
    },
    {
      "cell_type": "code",
      "metadata": {
        "id": "ycWszYkQpnn7",
        "outputId": "7ce2560c-2c99-46de-cad7-a097dc9a1d24",
        "colab": {
          "base_uri": "https://localhost:8080/",
          "height": 1000
        }
      },
      "source": [
        "! apt install libpangocairo-1.0 libxml2 libblas3 liblapack3 python3-dev python3-pip"
      ],
      "execution_count": 3,
      "outputs": [
        {
          "output_type": "stream",
          "text": [
            "Reading package lists... Done\n",
            "Building dependency tree       \n",
            "Reading state information... Done\n",
            "Note, selecting 'libpangocairo-1.0-0' for regex 'libpangocairo-1.0'\n",
            "liblapack3 is already the newest version (3.7.1-4ubuntu1).\n",
            "liblapack3 set to manually installed.\n",
            "libpangocairo-1.0-0 is already the newest version (1.40.14-1ubuntu0.1).\n",
            "libpangocairo-1.0-0 set to manually installed.\n",
            "libxml2 is already the newest version (2.9.4+dfsg1-6.1ubuntu1.3).\n",
            "libxml2 set to manually installed.\n",
            "python3-dev is already the newest version (3.6.7-1~18.04).\n",
            "The following additional packages will be installed:\n",
            "  python-pip-whl python3-asn1crypto python3-cffi-backend python3-crypto\n",
            "  python3-cryptography python3-idna python3-keyring python3-keyrings.alt\n",
            "  python3-pkg-resources python3-secretstorage python3-setuptools python3-six\n",
            "  python3-wheel python3-xdg\n",
            "Suggested packages:\n",
            "  python-crypto-doc python-cryptography-doc python3-cryptography-vectors\n",
            "  gnome-keyring libkf5wallet-bin gir1.2-gnomekeyring-1.0\n",
            "  python-secretstorage-doc python-setuptools-doc\n",
            "The following NEW packages will be installed:\n",
            "  libblas3 python-pip-whl python3-asn1crypto python3-cffi-backend\n",
            "  python3-crypto python3-cryptography python3-idna python3-keyring\n",
            "  python3-keyrings.alt python3-pip python3-pkg-resources python3-secretstorage\n",
            "  python3-setuptools python3-six python3-wheel python3-xdg\n",
            "0 upgraded, 16 newly installed, 0 to remove and 21 not upgraded.\n",
            "Need to get 3,022 kB of archives.\n",
            "After this operation, 9,363 kB of additional disk space will be used.\n",
            "Get:1 http://archive.ubuntu.com/ubuntu bionic/main amd64 libblas3 amd64 3.7.1-4ubuntu1 [140 kB]\n",
            "Get:2 http://archive.ubuntu.com/ubuntu bionic-updates/universe amd64 python-pip-whl all 9.0.1-2.3~ubuntu1.18.04.3 [1,653 kB]\n",
            "Get:3 http://archive.ubuntu.com/ubuntu bionic/main amd64 python3-asn1crypto all 0.24.0-1 [72.8 kB]\n",
            "Get:4 http://archive.ubuntu.com/ubuntu bionic/main amd64 python3-cffi-backend amd64 1.11.5-1 [64.6 kB]\n",
            "Get:5 http://archive.ubuntu.com/ubuntu bionic/main amd64 python3-crypto amd64 2.6.1-8ubuntu2 [244 kB]\n",
            "Get:6 http://archive.ubuntu.com/ubuntu bionic/main amd64 python3-idna all 2.6-1 [32.5 kB]\n",
            "Get:7 http://archive.ubuntu.com/ubuntu bionic/main amd64 python3-six all 1.11.0-2 [11.4 kB]\n",
            "Get:8 http://archive.ubuntu.com/ubuntu bionic-updates/main amd64 python3-cryptography amd64 2.1.4-1ubuntu1.3 [221 kB]\n",
            "Get:9 http://archive.ubuntu.com/ubuntu bionic/main amd64 python3-secretstorage all 2.3.1-2 [12.1 kB]\n",
            "Get:10 http://archive.ubuntu.com/ubuntu bionic/main amd64 python3-keyring all 10.6.0-1 [26.7 kB]\n",
            "Get:11 http://archive.ubuntu.com/ubuntu bionic/main amd64 python3-keyrings.alt all 3.0-1 [16.6 kB]\n",
            "Get:12 http://archive.ubuntu.com/ubuntu bionic-updates/universe amd64 python3-pip all 9.0.1-2.3~ubuntu1.18.04.3 [114 kB]\n",
            "Get:13 http://archive.ubuntu.com/ubuntu bionic/main amd64 python3-pkg-resources all 39.0.1-2 [98.8 kB]\n",
            "Get:14 http://archive.ubuntu.com/ubuntu bionic/main amd64 python3-setuptools all 39.0.1-2 [248 kB]\n",
            "Get:15 http://archive.ubuntu.com/ubuntu bionic/universe amd64 python3-wheel all 0.30.0-0.2 [36.5 kB]\n",
            "Get:16 http://archive.ubuntu.com/ubuntu bionic/main amd64 python3-xdg all 0.25-4ubuntu1 [31.4 kB]\n",
            "Fetched 3,022 kB in 1s (2,303 kB/s)\n",
            "Selecting previously unselected package libblas3:amd64.\n",
            "(Reading database ... 144611 files and directories currently installed.)\n",
            "Preparing to unpack .../00-libblas3_3.7.1-4ubuntu1_amd64.deb ...\n",
            "Unpacking libblas3:amd64 (3.7.1-4ubuntu1) ...\n",
            "Selecting previously unselected package python-pip-whl.\n",
            "Preparing to unpack .../01-python-pip-whl_9.0.1-2.3~ubuntu1.18.04.3_all.deb ...\n",
            "Unpacking python-pip-whl (9.0.1-2.3~ubuntu1.18.04.3) ...\n",
            "Selecting previously unselected package python3-asn1crypto.\n",
            "Preparing to unpack .../02-python3-asn1crypto_0.24.0-1_all.deb ...\n",
            "Unpacking python3-asn1crypto (0.24.0-1) ...\n",
            "Selecting previously unselected package python3-cffi-backend.\n",
            "Preparing to unpack .../03-python3-cffi-backend_1.11.5-1_amd64.deb ...\n",
            "Unpacking python3-cffi-backend (1.11.5-1) ...\n",
            "Selecting previously unselected package python3-crypto.\n",
            "Preparing to unpack .../04-python3-crypto_2.6.1-8ubuntu2_amd64.deb ...\n",
            "Unpacking python3-crypto (2.6.1-8ubuntu2) ...\n",
            "Selecting previously unselected package python3-idna.\n",
            "Preparing to unpack .../05-python3-idna_2.6-1_all.deb ...\n",
            "Unpacking python3-idna (2.6-1) ...\n",
            "Selecting previously unselected package python3-six.\n",
            "Preparing to unpack .../06-python3-six_1.11.0-2_all.deb ...\n",
            "Unpacking python3-six (1.11.0-2) ...\n",
            "Selecting previously unselected package python3-cryptography.\n",
            "Preparing to unpack .../07-python3-cryptography_2.1.4-1ubuntu1.3_amd64.deb ...\n",
            "Unpacking python3-cryptography (2.1.4-1ubuntu1.3) ...\n",
            "Selecting previously unselected package python3-secretstorage.\n",
            "Preparing to unpack .../08-python3-secretstorage_2.3.1-2_all.deb ...\n",
            "Unpacking python3-secretstorage (2.3.1-2) ...\n",
            "Selecting previously unselected package python3-keyring.\n",
            "Preparing to unpack .../09-python3-keyring_10.6.0-1_all.deb ...\n",
            "Unpacking python3-keyring (10.6.0-1) ...\n",
            "Selecting previously unselected package python3-keyrings.alt.\n",
            "Preparing to unpack .../10-python3-keyrings.alt_3.0-1_all.deb ...\n",
            "Unpacking python3-keyrings.alt (3.0-1) ...\n",
            "Selecting previously unselected package python3-pip.\n",
            "Preparing to unpack .../11-python3-pip_9.0.1-2.3~ubuntu1.18.04.3_all.deb ...\n",
            "Unpacking python3-pip (9.0.1-2.3~ubuntu1.18.04.3) ...\n",
            "Selecting previously unselected package python3-pkg-resources.\n",
            "Preparing to unpack .../12-python3-pkg-resources_39.0.1-2_all.deb ...\n",
            "Unpacking python3-pkg-resources (39.0.1-2) ...\n",
            "Selecting previously unselected package python3-setuptools.\n",
            "Preparing to unpack .../13-python3-setuptools_39.0.1-2_all.deb ...\n",
            "Unpacking python3-setuptools (39.0.1-2) ...\n",
            "Selecting previously unselected package python3-wheel.\n",
            "Preparing to unpack .../14-python3-wheel_0.30.0-0.2_all.deb ...\n",
            "Unpacking python3-wheel (0.30.0-0.2) ...\n",
            "Selecting previously unselected package python3-xdg.\n",
            "Preparing to unpack .../15-python3-xdg_0.25-4ubuntu1_all.deb ...\n",
            "Unpacking python3-xdg (0.25-4ubuntu1) ...\n",
            "Setting up python-pip-whl (9.0.1-2.3~ubuntu1.18.04.3) ...\n",
            "Setting up python3-cffi-backend (1.11.5-1) ...\n",
            "Setting up python3-crypto (2.6.1-8ubuntu2) ...\n",
            "Setting up python3-idna (2.6-1) ...\n",
            "Setting up python3-xdg (0.25-4ubuntu1) ...\n",
            "Setting up python3-six (1.11.0-2) ...\n",
            "Setting up python3-wheel (0.30.0-0.2) ...\n",
            "Setting up python3-pkg-resources (39.0.1-2) ...\n",
            "Setting up python3-asn1crypto (0.24.0-1) ...\n",
            "Setting up libblas3:amd64 (3.7.1-4ubuntu1) ...\n",
            "Setting up python3-pip (9.0.1-2.3~ubuntu1.18.04.3) ...\n",
            "Setting up python3-setuptools (39.0.1-2) ...\n",
            "Setting up python3-cryptography (2.1.4-1ubuntu1.3) ...\n",
            "Setting up python3-keyrings.alt (3.0-1) ...\n",
            "Setting up python3-secretstorage (2.3.1-2) ...\n",
            "Setting up python3-keyring (10.6.0-1) ...\n",
            "Processing triggers for man-db (2.8.3-2ubuntu0.1) ...\n"
          ],
          "name": "stdout"
        }
      ]
    },
    {
      "cell_type": "code",
      "metadata": {
        "id": "Mt8IE8CfWmPV",
        "outputId": "bdd16f34-1ca9-4245-a82a-4e669b162989",
        "colab": {
          "base_uri": "https://localhost:8080/",
          "height": 547
        }
      },
      "source": [
        "! pip3 install kraken"
      ],
      "execution_count": null,
      "outputs": [
        {
          "output_type": "stream",
          "text": [
            "Requirement already satisfied: kraken in /usr/local/lib/python3.6/dist-packages (2.0.8)\n",
            "Requirement already satisfied: Pillow in /usr/local/lib/python3.6/dist-packages (from kraken) (7.0.0)\n",
            "Requirement already satisfied: torch>=1.0.0 in /usr/local/lib/python3.6/dist-packages (from kraken) (1.6.0+cu101)\n",
            "Requirement already satisfied: protobuf>=3.0.0 in /usr/local/lib/python3.6/dist-packages (from kraken) (3.12.4)\n",
            "Requirement already satisfied: numpy in /usr/local/lib/python3.6/dist-packages (from kraken) (1.18.5)\n",
            "Requirement already satisfied: lxml in /usr/local/lib/python3.6/dist-packages (from kraken) (4.2.6)\n",
            "Requirement already satisfied: requests in /usr/local/lib/python3.6/dist-packages (from kraken) (2.23.0)\n",
            "Requirement already satisfied: scipy in /usr/local/lib/python3.6/dist-packages (from kraken) (1.4.1)\n",
            "Requirement already satisfied: jinja2 in /usr/local/lib/python3.6/dist-packages (from kraken) (2.11.2)\n",
            "Requirement already satisfied: future in /usr/local/lib/python3.6/dist-packages (from kraken) (0.16.0)\n",
            "Requirement already satisfied: click>=7.0 in /usr/local/lib/python3.6/dist-packages (from kraken) (7.1.2)\n",
            "Requirement already satisfied: torchvision in /usr/local/lib/python3.6/dist-packages (from kraken) (0.7.0+cu101)\n",
            "Requirement already satisfied: jsonschema in /usr/local/lib/python3.6/dist-packages (from kraken) (2.6.0)\n",
            "Requirement already satisfied: regex in /usr/local/lib/python3.6/dist-packages (from kraken) (2019.12.20)\n",
            "Requirement already satisfied: coremltools in /usr/local/lib/python3.6/dist-packages (from kraken) (4.0)\n",
            "Requirement already satisfied: python-bidi in /usr/local/lib/python3.6/dist-packages (from kraken) (0.4.2)\n",
            "Requirement already satisfied: setuptools in /usr/local/lib/python3.6/dist-packages (from protobuf>=3.0.0->kraken) (50.3.0)\n",
            "Requirement already satisfied: six>=1.9 in /usr/local/lib/python3.6/dist-packages (from protobuf>=3.0.0->kraken) (1.15.0)\n",
            "Requirement already satisfied: chardet<4,>=3.0.2 in /usr/local/lib/python3.6/dist-packages (from requests->kraken) (3.0.4)\n",
            "Requirement already satisfied: idna<3,>=2.5 in /usr/local/lib/python3.6/dist-packages (from requests->kraken) (2.10)\n",
            "Requirement already satisfied: certifi>=2017.4.17 in /usr/local/lib/python3.6/dist-packages (from requests->kraken) (2020.6.20)\n",
            "Requirement already satisfied: urllib3!=1.25.0,!=1.25.1,<1.26,>=1.21.1 in /usr/local/lib/python3.6/dist-packages (from requests->kraken) (1.24.3)\n",
            "Requirement already satisfied: MarkupSafe>=0.23 in /usr/local/lib/python3.6/dist-packages (from jinja2->kraken) (1.1.1)\n",
            "Requirement already satisfied: sympy in /usr/local/lib/python3.6/dist-packages (from coremltools->kraken) (1.1.1)\n",
            "Requirement already satisfied: tqdm in /usr/local/lib/python3.6/dist-packages (from coremltools->kraken) (4.41.1)\n",
            "Requirement already satisfied: packaging in /usr/local/lib/python3.6/dist-packages (from coremltools->kraken) (20.4)\n",
            "Requirement already satisfied: attr in /usr/local/lib/python3.6/dist-packages (from coremltools->kraken) (0.3.1)\n",
            "Requirement already satisfied: attrs in /usr/local/lib/python3.6/dist-packages (from coremltools->kraken) (20.2.0)\n",
            "Requirement already satisfied: mpmath>=0.19 in /usr/local/lib/python3.6/dist-packages (from sympy->coremltools->kraken) (1.1.0)\n",
            "Requirement already satisfied: pyparsing>=2.0.2 in /usr/local/lib/python3.6/dist-packages (from packaging->coremltools->kraken) (2.4.7)\n"
          ],
          "name": "stdout"
        }
      ]
    },
    {
      "cell_type": "code",
      "metadata": {
        "id": "V4ZfB9XFXsO2",
        "outputId": "454d8994-1b05-4aa7-957e-28a7229469da",
        "colab": {
          "base_uri": "https://localhost:8080/",
          "height": 71
        }
      },
      "source": [
        "! kraken get 10.5281/zenodo.2577813"
      ],
      "execution_count": 4,
      "outputs": [
        {
          "output_type": "stream",
          "text": [
            "Retrieving model \u001b[0m.\u001b[0m.\u001b[0m.\u001b[0m.\u001b[0m.\u001b[0m.\u001b[0m.\u001b[0m.\u001b[0m.\u001b[0m.\u001b[0m.\u001b[0m.\u001b[0m.\u001b[0m.\u001b[0m.\u001b[0m.\u001b[0m.\u001b[0m.\u001b[0m.\u001b[0m.\u001b[0m.\u001b[0m.\u001b[0m.\u001b[0m.\u001b[0m.\u001b[0m.\u001b[0m.\u001b[0m.\u001b[0m.\u001b[0m.\u001b[0m.\u001b[0m.\u001b[0m.\u001b[0m.\u001b[0m.\u001b[0m.\u001b[0m.\u001b[0m.\u001b[0m.\u001b[0m.\u001b[0m.\u001b[0m.\u001b[0m.\u001b[0m.\u001b[0m.\u001b[0m.\u001b[0m.\u001b[0m.\u001b[0m.\u001b[0m.\u001b[0m.\u001b[0m.\u001b[0m.\u001b[0m.\u001b[0m.\u001b[0m.\u001b[0m.\u001b[0m.\u001b[0m.\u001b[0m.\u001b[0m.\u001b[0m.\u001b[0m.\u001b[0m.\u001b[0m.\u001b[0m.\u001b[0m.\u001b[0m.\u001b[0m.\u001b[0m.\u001b[0m.\u001b[0m.\u001b[0m.\u001b[0m.\u001b[0m.\u001b[0m.\u001b[0m.\u001b[0m.\u001b[0m.\u001b[0m.\u001b[0m.\u001b[0m.\u001b[0m.\u001b[0m.\u001b[0m.\u001b[0m.\u001b[0m.\u001b[0m.\u001b[0m.\u001b[0m.\u001b[0m.\u001b[0m.\u001b[0m.\u001b[0m.\u001b[0m.\u001b[0m.\u001b[0m.\u001b[0m.\u001b[0m.\u001b[0m.\u001b[0m.\u001b[0m.\u001b[0m.\u001b[0m.\u001b[0m.\u001b[0m.\u001b[0m.\u001b[0m.\u001b[0m.\u001b[0m.\u001b[0m.\u001b[0m.\u001b[0m.\u001b[0m.\u001b[0m.\u001b[0m.\u001b[0m.\u001b[0m.\u001b[0m.\u001b[0m.\u001b[0m.\u001b[0m.\u001b[0m.\u001b[0m.\u001b[0m.\u001b[0m.\u001b[0m.\u001b[0m.\u001b[0m.\u001b[0m.\u001b[0m.\u001b[0m.\u001b[0m.\u001b[0m.\u001b[0m.\u001b[0m.\u001b[0m.\u001b[0m.\u001b[0m.\u001b[0m.\u001b[0m.\u001b[0m.\u001b[0m.\u001b[0m.\u001b[0m.\u001b[0m.\u001b[0m.\u001b[0m.\u001b[0m.\u001b[0m.\u001b[0m.\u001b[0m.\u001b[0m.\u001b[0m.\u001b[0m.\u001b[0m.\u001b[0m.\u001b[0m.\u001b[0m.\u001b[0m.\u001b[0m.\u001b[0m.\u001b[0m.\u001b[0m.\u001b[0m.\u001b[0m.\u001b[0m.\u001b[0m.\u001b[0m.\u001b[0m.\u001b[0m.\u001b[0m.\u001b[0m.\u001b[0m.\u001b[0m.\u001b[0m.\u001b[0m.\u001b[0m.\u001b[0m.\u001b[0m.\u001b[0m.\u001b[0m.\u001b[0m.\u001b[0m.\u001b[0m.\u001b[0m.\u001b[0m.\u001b[0m.\u001b[0m.\u001b[0m.\u001b[0m.\u001b[0m.\u001b[0m.\u001b[0m.\u001b[0m.\u001b[0m.\u001b[0m.\u001b[0m.\u001b[0m.\u001b[0m.\u001b[0m.\u001b[0m.\u001b[0m.\u001b[0m.\u001b[0m.\u001b[0m.\u001b[0m.\u001b[0m.\u001b[0m.\u001b[0m.\u001b[0m.\u001b[0m.\u001b[0m.\u001b[0m.\u001b[0m.\u001b[0m.\u001b[0m.\u001b[0m.\u001b[0m.\u001b[0m.\u001b[0m.\u001b[0m.\u001b[0m.\u001b[0m.\u001b[0m.\u001b[0m.\u001b[0m.\u001b[0m.\u001b[0m.\u001b[0m.\u001b[0m.\u001b[0m.\u001b[0m.\u001b[0m.\u001b[0m.\u001b[0m.\u001b[0m.\u001b[0m.\u001b[0m.\u001b[0m.\u001b[0m.\u001b[0m.\u001b[0m.\u001b[0m.\u001b[0m.\u001b[0m.\u001b[0m.\u001b[0m.\u001b[0m.\u001b[0m.\u001b[0m.\u001b[0m.\u001b[0m.\u001b[0m.\u001b[0m.\u001b[0m.\u001b[0m.\u001b[0m.\u001b[0m.\u001b[0m.\u001b[0m.\u001b[0m.\u001b[0m.\u001b[0m.\u001b[0m.\u001b[0m.\u001b[0m.\u001b[0m.\u001b[0m.\u001b[0m.\u001b[0m.\u001b[0m.\u001b[0m.\u001b[0m.\u001b[0m.\u001b[0m.\u001b[0m.\u001b[0m.\u001b[0m.\u001b[0m.\u001b[0m.\u001b[0m.\u001b[0m.\u001b[0m.\u001b[0m.\u001b[0m.\u001b[0m.\u001b[0m.\u001b[0m.\u001b[0m.\u001b[0m.\u001b[0m.\u001b[0m.\u001b[0m.\u001b[0m.\u001b[0m.\u001b[0m.\u001b[0m.\u001b[0m.\u001b[0m.\u001b[0m.\u001b[0m.\u001b[0m.\u001b[0m.\u001b[0m.\u001b[0m.\u001b[0m.\u001b[0m.\u001b[0m.\u001b[0m.\u001b[0m.\u001b[0m.\u001b[0m.\u001b[0m.\u001b[0m.\u001b[0m.\u001b[0m.\u001b[0m.\u001b[0m.\u001b[0m.\u001b[0m.\u001b[0m.\u001b[0m.\u001b[0m.\u001b[0m.\u001b[0m.\u001b[0m.\u001b[0m.\u001b[0m.\u001b[0m.\u001b[0m.\u001b[0m.\u001b[0m.\u001b[0m.\u001b[0m.\u001b[0m.\u001b[0m.\u001b[0m.\u001b[0m.\u001b[0m.\u001b[0m.\u001b[0m.\u001b[0m.\u001b[0m.\u001b[0m.\u001b[0m.\u001b[0m.\u001b[0m.\u001b[0m.\u001b[0m.\u001b[0m.\u001b[0m.\u001b[0m.\u001b[0m.\u001b[0m.\u001b[0m.\u001b[0m.\u001b[0m.\u001b[0m.\u001b[0m.\u001b[0m.\u001b[0m.\u001b[0m.\u001b[0m.\u001b[0m.\u001b[0m.\u001b[0m.\u001b[0m.\u001b[0m.\u001b[0m.\u001b[0m.\u001b[0m.\u001b[0m.\u001b[0m.\u001b[0m.\u001b[0m.\u001b[0m.\u001b[0m.\u001b[0m.\u001b[0m.\u001b[0m.\u001b[0m.\u001b[0m.\u001b[0m.\u001b[0m.\u001b[0m.\u001b[0m.\u001b[0m.\u001b[0m.\u001b[0m.\u001b[0m.\u001b[0m.\u001b[0m.\u001b[0m.\u001b[0m.\u001b[0m.\u001b[0m.\u001b[0m.\u001b[0m.\u001b[0m.\u001b[0m.\u001b[0m.\u001b[0m.\u001b[0m.\u001b[0m.\u001b[0m.\u001b[0m.\u001b[0m.\u001b[0m.\u001b[0m.\u001b[0m.\u001b[0m.\u001b[0m.\u001b[0m.\u001b[0m.\u001b[0m.\u001b[0m.\u001b[0m.\u001b[0m.\u001b[0m.\u001b[0m.\u001b[0m.\u001b[0m.\u001b[0m.\u001b[0m.\u001b[0m.\u001b[0m.\u001b[0m.\u001b[0m.\u001b[0m.\u001b[0m.\u001b[0m.\u001b[0m.\u001b[0m.\u001b[0m.\u001b[0m.\u001b[0m.\u001b[0m.\u001b[0m.\u001b[0m.\u001b[0m.\u001b[0m.\u001b[0m.\u001b[0m.\u001b[0m.\u001b[0m.\u001b[0m.\u001b[0m.\u001b[0m.\u001b[0m.\u001b[0m.\u001b[0m.\u001b[0m.\u001b[0m.\u001b[0m.\u001b[0m.\u001b[0m.\u001b[0m.\u001b[0m.\u001b[0m.\u001b[0m.\u001b[0m.\u001b[0m.\u001b[0m.\u001b[0m.\u001b[0m.\u001b[0m.\u001b[0m.\u001b[0m.\u001b[0m.\u001b[0m.\u001b[0m.\u001b[0m.\u001b[0m.\u001b[0m.\u001b[0m.\u001b[0m.\u001b[0m.\u001b[0m.\u001b[0m.\u001b[0m.\u001b[0m.\u001b[0m.\u001b[0m.\u001b[0m.\u001b[0m.\u001b[0m.\u001b[0m.\u001b[0m.\u001b[0m.\u001b[0m.\u001b[0m.\u001b[0m.\u001b[0m.\u001b[0m.\u001b[0m.\u001b[0m.\u001b[0m.\u001b[0m.\u001b[0m.\u001b[0m.\u001b[0m.\u001b[0m.\u001b[0m.\u001b[0m.\u001b[0m.\u001b[0m.\u001b[0m.\u001b[0m.\u001b[0m.\u001b[0m.\u001b[0m.\u001b[0m.\u001b[0m.\u001b[0m.\u001b[0m.\u001b[0m.\u001b[0m.\u001b[0m.\u001b[0m.\u001b[0m.\u001b[0m.\u001b[0m.\u001b[0m.\u001b[0m.\u001b[0m.\u001b[0m.\u001b[0m.\u001b[0m.\u001b[0m.\u001b[0m.\u001b[0m.\u001b[0m.\u001b[0m.\u001b[0m.\u001b[0m.\u001b[0m.\u001b[0m.\u001b[0m.\u001b[0m.\u001b[0m.\u001b[0m.\u001b[0m.\u001b[0m.\u001b[0m.\u001b[0m.\u001b[0m.\u001b[0m.\u001b[0m.\u001b[0m.\u001b[0m.\u001b[0m.\u001b[0m.\u001b[0m.\u001b[0m.\u001b[0m.\u001b[0m.\u001b[0m.\u001b[0m.\u001b[0m.\u001b[0m.\u001b[0m.\u001b[0m.\u001b[0m.\u001b[0m.\u001b[0m.\u001b[0m.\u001b[0m.\u001b[0m.\u001b[0m.\u001b[0m.\u001b[0m.\u001b[0m.\u001b[0m.\u001b[0m.\u001b[0m.\u001b[0m.\u001b[0m.\u001b[0m.\u001b[0m.\u001b[0m.\u001b[0m.\u001b[0m.\u001b[0m.\u001b[0m.\u001b[0m.\u001b[0m.\u001b[0m.\u001b[0m.\u001b[0m.\u001b[0m.\u001b[0m.\u001b[0m.\u001b[0m.\u001b[0m.\u001b[0m.\u001b[0m.\u001b[0m.\u001b[0m.\u001b[0m.\u001b[0m.\u001b[0m.\u001b[0m.\u001b[0m.\u001b[0m.\u001b[0m.\u001b[0m.\u001b[0m.\u001b[0m.\u001b[0m.\u001b[0m.\u001b[0m.\u001b[0m.\u001b[0m.\u001b[0m.\u001b[0m.\u001b[0m.\u001b[0m.\u001b[0m.\u001b[0m.\u001b[0m.\u001b[0m.\u001b[0m.\u001b[0m.\u001b[0m.\u001b[0m.\u001b[0m.\u001b[0m.\u001b[0m.\u001b[0m.\u001b[0m.\u001b[0m.\u001b[0m.\u001b[0m.\u001b[0m.\u001b[0m.\u001b[0m.\u001b[0m.\u001b[0m.\u001b[0m.\u001b[0m.\u001b[0m.\u001b[0m.\u001b[0m.\u001b[0m.\u001b[0m.\u001b[0m.\u001b[0m.\u001b[0m.\u001b[0m.\u001b[0m.\u001b[0m.\u001b[0m.\u001b[0m.\u001b[0m.\u001b[0m.\u001b[0m.\u001b[0m.\u001b[0m.\u001b[0m.\u001b[0m.\u001b[0m.\u001b[0m.\u001b[0m.\u001b[0m.\u001b[0m.\u001b[0m.\u001b[0m.\u001b[0m.\u001b[0m.\u001b[0m.\u001b[0m.\u001b[0m.\u001b[0m.\u001b[0m.\u001b[0m.\u001b[0m.\u001b[0m.\u001b[0m.\u001b[0m.\u001b[0m.\u001b[0m.\u001b[0m.\u001b[0m.\u001b[0m.\u001b[0m.\u001b[0m.\u001b[0m.\u001b[0m.\u001b[0m.\u001b[0m.\u001b[0m.\u001b[0m.\u001b[0m.\u001b[0m.\u001b[0m.\u001b[0m.\u001b[0m.\u001b[0m.\u001b[0m.\u001b[0m.\u001b[0m.\u001b[0m.\u001b[0m.\u001b[0m.\u001b[0m.\u001b[0m.\u001b[0m.\u001b[0m.\u001b[0m.\u001b[0m.\u001b[0m.\u001b[0m.\u001b[0m.\u001b[0m.\u001b[0m.\u001b[0m.\u001b[0m.\u001b[0m.\u001b[0m.\u001b[0m.\u001b[0m.\u001b[0m.\u001b[0m.\u001b[0m.\u001b[0m.\u001b[0m.\u001b[0m.\u001b[0m.\u001b[0m.\u001b[0m.\u001b[0m.\u001b[0m.\u001b[0m.\u001b[0m.\u001b[0m.\u001b[0m.\u001b[0m.\u001b[0m.\u001b[0m.\u001b[0m.\u001b[0m.\u001b[0m.\u001b[0m.\u001b[0m.\u001b[0m.\u001b[0m.\u001b[0m.\u001b[0m.\u001b[0m.\u001b[0m.\u001b[0m.\u001b[0m.\u001b[0m.\u001b[0m.\u001b[0m.\u001b[0m.\u001b[0m.\u001b[0m.\u001b[0m.\u001b[0m.\u001b[0m.\u001b[0m.\u001b[0m.\u001b[0m.\u001b[0m.\u001b[0m.\u001b[0m.\u001b[0m.\u001b[0m.\u001b[0m.\u001b[0m.\u001b[0m.\u001b[0m.\u001b[0m.\u001b[0m.\u001b[0m.\u001b[0m.\u001b[0m.\u001b[0m.\u001b[0m.\u001b[0m.\u001b[0m.\u001b[0m.\u001b[0m.\u001b[0m.\u001b[0m.\u001b[0m.\u001b[0m.\u001b[0m.\u001b[0m.\u001b[0m.\u001b[0m.\u001b[0m.\u001b[0m.\u001b[0m.\u001b[0m.\u001b[0m.\u001b[0m.\u001b[0m.\u001b[0m.\u001b[0m.\u001b[0m.\u001b[0m.\u001b[0m.\u001b[0m.\u001b[0m.\u001b[0m.\u001b[0m.\u001b[0m.\u001b[0m.\u001b[0m.\u001b[0m.\u001b[0m.\u001b[0m.\u001b[0m.\u001b[0m.\u001b[0m.\u001b[0m.\u001b[0m.\u001b[0m.\u001b[0m.\u001b[0m.\u001b[0m.\u001b[0m.\u001b[0m.\u001b[0m.\u001b[0m.\u001b[0m.\u001b[0m.\u001b[0m.\u001b[0m.\u001b[0m.\u001b[0m.\u001b[0m.\u001b[0m.\u001b[0m.\u001b[0m.\u001b[0m.\u001b[0m.\u001b[0m.\u001b[0m.\u001b[0m.\u001b[0m.\u001b[0m.\u001b[0m.\u001b[0m.\u001b[0m.\u001b[0m.\u001b[0m.\u001b[0m.\u001b[0m.\u001b[0m.\u001b[0m.\u001b[0m.\u001b[0m.\u001b[0m.\u001b[0m.\u001b[0m.\u001b[0m.\u001b[0m.\u001b[0m.\u001b[0m.\u001b[0m.\u001b[0m.\u001b[0m.\u001b[0m.\u001b[0m.\u001b[0m.\u001b[0m.\u001b[0m.\u001b[0m.\u001b[0m.\u001b[0m.\u001b[0m.\u001b[0m.\u001b[0m.\u001b[0m.\u001b[0m.\u001b[0m.\u001b[0m.\u001b[0m.\u001b[0m.\u001b[0m.\u001b[0m.\u001b[0m.\u001b[0m.\u001b[0m.\u001b[0m.\u001b[0m.\u001b[0m.\u001b[0m.\u001b[0m.\u001b[0m.\u001b[0m.\u001b[0m.\u001b[0m.\u001b[0m.\u001b[0m.\u001b[0m.\u001b[0m.\u001b[0m.\u001b[0m.\u001b[0m.\u001b[0m.\u001b[0m.\u001b[0m.\u001b[0m.\u001b[0m.\u001b[0m.\u001b[0m.\u001b[0m.\u001b[0m.\u001b[0m.\u001b[0m.\u001b[0m.\u001b[0m.\u001b[0m.\u001b[0m.\u001b[0m.\u001b[0m.\u001b[0m.\u001b[0m.\u001b[0m.\u001b[0m.\u001b[0m.\u001b[0m.\u001b[0m.\u001b[0m.\u001b[0m.\u001b[0m.\u001b[0m.\u001b[0m.\u001b[0m.\u001b[0m.\u001b[0m.\u001b[0m.\u001b[0m.\u001b[0m.\u001b[0m.\u001b[0m.\u001b[0m.\u001b[0m.\u001b[0m.\u001b[0m.\u001b[0m.\u001b[0m.\u001b[0m.\u001b[0m.\u001b[0m.\u001b[0m.\u001b[0m.\u001b[0m.\u001b[0m.\u001b[0m.\u001b[0m.\u001b[0m.\u001b[0m.\u001b[0m.\u001b[0m.\u001b[0m.\u001b[0m.\u001b[0m.\u001b[0m.\u001b[0m.\u001b[0m.\u001b[0m.\u001b[0m.\u001b[0m.\u001b[0m.\u001b[0m.\u001b[0m.\u001b[0m.\u001b[0m.\u001b[0m.\u001b[0m.\u001b[0m.\u001b[0m.\u001b[0m.\u001b[0m.\u001b[0m.\u001b[0m.\u001b[0m.\u001b[0m.\u001b[0m.\u001b[0m.\u001b[0m.\u001b[0m.\u001b[0m.\u001b[0m.\u001b[0m.\u001b[0m.\u001b[0m.\u001b[0m.\u001b[0m.\u001b[0m.\u001b[0m.\u001b[0m.\u001b[0m.\u001b[0m.\u001b[0m.\u001b[0m.\u001b[0m.\u001b[0m.\u001b[0m.\u001b[0m.\u001b[0m.\u001b[0m.\u001b[0m.\u001b[0m.\u001b[0m.\u001b[0m.\u001b[0m.\u001b[0m.\u001b[0m.\u001b[0m.\u001b[0m.\u001b[0m.\u001b[0m.\u001b[0m.\u001b[0m.\u001b[0m.\u001b[0m.\u001b[0m.\u001b[0m.\u001b[0m.\u001b[0m.\u001b[0m.\u001b[0m.\u001b[0m.\u001b[0m.\u001b[0m.\u001b[0m.\u001b[0m.\u001b[0m.\u001b[0m.\u001b[0m.\u001b[0m.\u001b[0m.\u001b[0m.\u001b[0m.\u001b[0m.\u001b[0m.\u001b[0m.\u001b[0m.\u001b[0m.\u001b[0m.\u001b[0m.\u001b[0m.\u001b[0m.\u001b[0m.\u001b[0m.\u001b[0m.\u001b[0m.\u001b[0m.\u001b[0m.\u001b[0m.\u001b[0m.\u001b[0m.\u001b[0m.\u001b[0m.\u001b[0m.\u001b[0m.\u001b[0m.\u001b[0m.\u001b[0m.\u001b[0m.\u001b[0m.\u001b[0m.\u001b[0m.\u001b[0m.\u001b[0m.\u001b[0m.\u001b[0m.\u001b[0m.\u001b[0m.\u001b[0m.\u001b[0m.\u001b[0m.\u001b[0m.\u001b[0m.\u001b[0m.\u001b[0m.\u001b[0m.\u001b[0m.\u001b[0m.\u001b[0m.\u001b[0m.\u001b[0m.\u001b[0m.\u001b[0m.\u001b[0m.\u001b[0m.\u001b[0m.\u001b[0m.\u001b[0m.\u001b[0m.\u001b[0m.\u001b[0m.\u001b[0m.\u001b[0m.\u001b[0m.\u001b[0m.\u001b[0m.\u001b[0m.\u001b[0m.\u001b[0m.\u001b[0m.\u001b[0m.\u001b[0m.\u001b[0m.\u001b[0m.\u001b[0m.\u001b[0m.\u001b[0m.\u001b[0m.\u001b[0m.\u001b[0m.\u001b[0m.\u001b[0m.\u001b[0m.\u001b[0m.\u001b[0m.\u001b[0m.\u001b[0m.\u001b[0m.\u001b[0m.\u001b[0m.\u001b[0m.\u001b[0m.\u001b[0m.\u001b[0m.\u001b[0m.\u001b[0m.\u001b[0m.\u001b[0m.\u001b[0m.\u001b[0m.\u001b[0m.\u001b[0m.\u001b[0m.\u001b[0m.\u001b[0m.\u001b[0m.\u001b[0m.\u001b[0m.\u001b[0m.\u001b[0m.\u001b[0m.\u001b[0m.\u001b[0m.\u001b[0m.\u001b[0m.\u001b[0m.\u001b[0m.\u001b[0m.\u001b[0m.\u001b[0m.\u001b[0m.\u001b[0m.\u001b[0m.\u001b[0m.\u001b[0m.\u001b[0m.\u001b[0m.\u001b[0m.\u001b[0m.\u001b[0m.\u001b[0m.\u001b[0m.\u001b[0m.\u001b[0m.\u001b[0m.\u001b[0m.\u001b[0m.\u001b[0m.\u001b[0m.\u001b[0m.\u001b[0m.\u001b[0m.\u001b[0m.\u001b[0m.\u001b[0m.\u001b[0m.\u001b[0m.\u001b[0m.\u001b[0m.\u001b[0m.\u001b[0m.\u001b[0m.\u001b[0m.\u001b[0m.\u001b[0m.\u001b[0m.\u001b[0m.\u001b[0m.\u001b[0m.\u001b[0m.\u001b[0m.\u001b[0m.\u001b[0m.\u001b[0m.\u001b[0m.\u001b[0m.\u001b[0m.\u001b[0m.\u001b[0m.\u001b[0m.\u001b[0m.\u001b[0m.\u001b[0m.\u001b[0m.\u001b[0m.\u001b[0m.\u001b[0m.\u001b[0m.\u001b[0m.\u001b[0m.\u001b[0m.\u001b[0m.\u001b[0m.\u001b[0m.\u001b[0m.\u001b[0m.\u001b[0m.\u001b[0m.\u001b[0m.\u001b[0m.\u001b[0m.\u001b[0m.\u001b[0m.\u001b[0m.\u001b[0m.\u001b[0m.\u001b[0m.\u001b[0m.\u001b[0m.\u001b[0m.\u001b[0m.\u001b[0m.\u001b[0m.\u001b[0m.\u001b[0m.\u001b[0m.\u001b[0m.\u001b[0m.\u001b[0m.\u001b[0m.\u001b[0m.\u001b[0m.\u001b[0m.\u001b[0m.\u001b[0m.\u001b[0m.\u001b[0m.\u001b[0m.\u001b[0m.\u001b[0m.\u001b[0m.\u001b[0m.\u001b[0m.\u001b[0m.\u001b[0m.\u001b[0m.\u001b[0m.\u001b[0m.\u001b[0m.\u001b[0m.\u001b[0m.\u001b[0m.\u001b[0m.\u001b[0m.\u001b[0m.\u001b[0m.\u001b[0m.\u001b[0m.\u001b[0m.\u001b[0m.\u001b[0m.\u001b[0m.\u001b[0m.\u001b[0m.\u001b[0m.\u001b[0m.\u001b[0m.\u001b[0m.\u001b[0m.\u001b[0m.\u001b[0m.\u001b[0m.\u001b[0m.\u001b[0m.\u001b[0m.\u001b[0m.\u001b[0m.\u001b[0m.\u001b[0m.\u001b[0m.\u001b[0m.\u001b[0m.\u001b[0m.\u001b[0m.\u001b[0m.\u001b[0m.\u001b[0m.\u001b[0m.\u001b[0m.\u001b[0m.\u001b[0m.\u001b[0m.\u001b[0m.\u001b[0m.\u001b[0m.\u001b[0m.\u001b[0m.\u001b[0m.\u001b[0m.\u001b[0m.\u001b[0m.\u001b[0m.\u001b[0m.\u001b[0m.\u001b[0m.\u001b[0m.\u001b[0m.\u001b[0m.\u001b[0m.\u001b[0m.\u001b[0m.\u001b[0m.\u001b[0m.\u001b[0m.\u001b[0m.\u001b[0m.\u001b[0m.\u001b[0m.\u001b[0m.\u001b[0m.\u001b[0m.\u001b[0m.\u001b[0m.\u001b[0m.\u001b[0m.\u001b[0m.\u001b[0m.\u001b[0m.\u001b[0m.\u001b[0m.\u001b[0m.\u001b[0m.\u001b[0m.\u001b[0m.\u001b[0m.\u001b[0m.\u001b[0m.\u001b[0m.\u001b[0m.\u001b[0m.\u001b[0m.\u001b[0m.\u001b[0m.\u001b[0m.\u001b[0m.\u001b[0m.\u001b[0m.\u001b[0m.\u001b[0m.\u001b[0m.\u001b[0m.\u001b[0m.\u001b[0m.\u001b[0m.\u001b[0m.\u001b[0m.\u001b[0m.\u001b[0m.\u001b[0m.\u001b[0m.\u001b[0m.\u001b[0m.\u001b[0m.\u001b[0m.\u001b[0m.\u001b[0m.\u001b[0m.\u001b[0m.\u001b[0m.\u001b[0m.\u001b[0m.\u001b[0m.\u001b[0m.\u001b[0m.\u001b[0m.\u001b[0m.\u001b[0m.\u001b[0m.\u001b[0m.\u001b[0m.\u001b[0m.\u001b[0m.\u001b[0m.\u001b[0m.\u001b[0m.\u001b[0m.\u001b[0m.\u001b[0m.\u001b[0m.\u001b[0m.\u001b[0m.\u001b[0m.\u001b[0m.\u001b[0m.\u001b[0m.\u001b[0m.\u001b[0m.\u001b[0m.\u001b[0m.\u001b[0m.\u001b[0m.\u001b[0m.\u001b[0m.\u001b[0m.\u001b[0m.\u001b[0m.\u001b[0m.\u001b[0m.\u001b[0m.\u001b[0m.\u001b[0m.\u001b[0m.\u001b[0m.\u001b[0m.\u001b[0m.\u001b[0m.\u001b[0m.\u001b[0m.\u001b[0m.\u001b[0m.\u001b[0m.\u001b[0m.\u001b[0m.\u001b[0m.\u001b[0m.\u001b[0m.\u001b[0m.\u001b[0m.\u001b[0m.\u001b[0m.\u001b[0m.\u001b[0m.\u001b[0m.\u001b[0m.\u001b[0m.\u001b[0m.\u001b[0m.\u001b[0m.\u001b[0m.\u001b[0m.\u001b[0m.\u001b[0m.\u001b[0m.\u001b[0m.\u001b[0m.\u001b[0m.\u001b[0m.\u001b[0m.\u001b[0m.\u001b[0m.\u001b[0m.\u001b[0m.\u001b[0m.\u001b[0m.\u001b[0m.\u001b[0m.\u001b[0m.\u001b[0m.\u001b[0m.\u001b[0m.\u001b[0m.\u001b[0m.\u001b[0m.\u001b[0m.\u001b[0m.\u001b[0m.\u001b[0m.\u001b[0m.\u001b[0m.\u001b[0m.\u001b[0m.\u001b[0m.\u001b[0m.\u001b[0m.\u001b[0m.\u001b[0m.\u001b[0m.\u001b[0m.\u001b[0m.\u001b[0m.\u001b[0m.\u001b[0m.\u001b[0m.\u001b[0m.\u001b[0m.\u001b[0m.\u001b[0m.\u001b[0m.\u001b[0m.\u001b[0m.\u001b[0m.\u001b[0m.\u001b[0m.\u001b[0m.\u001b[0m.\u001b[0m.\u001b[0m.\u001b[0m.\u001b[0m.\u001b[0m.\u001b[0m.\u001b[0m.\u001b[0m.\u001b[0m.\u001b[0m.\u001b[0m.\u001b[0m.\u001b[0m.\u001b[0m.\u001b[0m.\u001b[0m.\u001b[0m.\u001b[0m.\u001b[0m.\u001b[0m.\u001b[0m.\u001b[0m.\u001b[0m.\u001b[0m.\u001b[0m.\u001b[0m.\u001b[0m.\u001b[0m.\u001b[0m.\u001b[0m.\u001b[0m.\u001b[0m.\u001b[0m.\u001b[0m.\u001b[0m.\u001b[0m.\u001b[0m.\u001b[0m.\u001b[0m.\u001b[0m.\u001b[0m.\u001b[0m.\u001b[0m.\u001b[0m.\u001b[0m.\u001b[0m.\u001b[0m.\u001b[0m.\u001b[0m.\u001b[0m.\u001b[0m.\u001b[0m.\u001b[0m.\u001b[0m.\u001b[0m.\u001b[0m.\u001b[0m.\u001b[0m.\u001b[0m.\u001b[0m.\u001b[0m.\u001b[0m.\u001b[0m.\u001b[0m.\u001b[0m.\u001b[0m.\u001b[0m.\u001b[0m.\u001b[0m.\u001b[0m.\u001b[0m.\u001b[0m.\u001b[0m.\u001b[0m.\u001b[0m.\u001b[0m.\u001b[0m.\u001b[0m.\u001b[0m.\u001b[0m.\u001b[0m.\u001b[0m.\u001b[0m.\u001b[0m.\u001b[0m.\u001b[0m.\u001b[0m.\u001b[0m.\u001b[0m.\u001b[0m.\u001b[0m.\u001b[0m.\u001b[0m.\u001b[0m.\u001b[0m.\u001b[0m.\u001b[0m.\u001b[0m.\u001b[0m.\u001b[0m.\u001b[0m.\u001b[0m.\u001b[0m.\u001b[0m.\u001b[0m.\u001b[0m.\u001b[0m.\u001b[0m.\u001b[0m.\u001b[0m.\u001b[0m.\u001b[0m.\u001b[0m.\u001b[0m.\u001b[0m.\u001b[0m.\u001b[0m.\u001b[0m.\u001b[0m.\u001b[0m.\u001b[0m.\u001b[0m.\u001b[0m.\u001b[0m.\u001b[0m.\u001b[0m.\u001b[0m.\u001b[0m.\u001b[0m.\u001b[0m.\u001b[0m.\u001b[0m.\u001b[0m.\u001b[0m.\u001b[0m.\u001b[0m.\u001b[0m.\u001b[0m.\u001b[0m.\u001b[0m.\u001b[0m.\u001b[0m.\u001b[0m.\u001b[0m.\u001b[0m.\u001b[0m.\u001b[0m.\u001b[0m.\u001b[0m.\u001b[0m.\u001b[0m.\u001b[0m.\u001b[0m.\u001b[0m.\u001b[0m.\u001b[0m.\u001b[0m.\u001b[0m.\u001b[0m.\u001b[0m.\u001b[0m.\u001b[0m.\u001b[0m.\u001b[0m.\u001b[0m.\u001b[0m.\u001b[0m.\u001b[0m.\u001b[0m.\u001b[0m.\u001b[0m.\u001b[0m.\u001b[0m.\u001b[0m.\u001b[0m.\u001b[0m.\u001b[0m.\u001b[0m.\u001b[0m.\u001b[0m.\u001b[0m.\u001b[0m.\u001b[0m.\u001b[0m.\u001b[0m.\u001b[0m.\u001b[0m.\u001b[0m.\u001b[0m.\u001b[0m.\u001b[0m.\u001b[0m.\u001b[0m.\u001b[0m.\u001b[0m.\u001b[0m.\u001b[0m.\u001b[0m.\u001b[0m.\u001b[0m.\u001b[0m.\u001b[0m.\u001b[0m.\u001b[0m.\u001b[0m.\u001b[0m.\u001b[0m.\u001b[0m.\u001b[0m.\u001b[0m.\u001b[0m.\u001b[0m.\u001b[0m.\u001b[0m.\u001b[0m.\u001b[0m.\u001b[0m.\u001b[0m.\u001b[0m.\u001b[0m.\u001b[0m.\u001b[0m.\u001b[0m.\u001b[0m.\u001b[0m.\u001b[0m.\u001b[0m.\u001b[0m.\u001b[0m.\u001b[0m.\u001b[0m.\u001b[0m.\u001b[0m.\u001b[0m.\u001b[0m.\u001b[0m.\u001b[0m.\u001b[0m.\u001b[0m.\u001b[0m.\u001b[0m.\u001b[0m.\u001b[0m.\u001b[0m.\u001b[0m.\u001b[0m.\u001b[0m.\u001b[0m.\u001b[0m.\u001b[0m.\u001b[0m.\u001b[0m.\u001b[0m.\u001b[0m.\u001b[0m.\u001b[0m.\u001b[0m.\u001b[0m.\u001b[0m.\u001b[0m.\u001b[0m.\u001b[0m.\u001b[0m.\u001b[0m.\u001b[0m.\u001b[0m.\u001b[0m.\u001b[0m.\u001b[0m.\u001b[0m.\u001b[0m.\u001b[0m.\u001b[0m.\u001b[0m.\u001b[0m.\u001b[0m.\u001b[0m.\u001b[0m.\u001b[0m.\u001b[0m.\u001b[0m.\u001b[0m.\u001b[0m.\u001b[0m.\u001b[0m.\u001b[0m.\u001b[0m.\u001b[0m.\u001b[0m.\u001b[0m.\u001b[0m.\u001b[0m.\u001b[0m.\u001b[0m.\u001b[0m.\u001b[0m.\u001b[0m.\u001b[0m.\u001b[0m.\u001b[0m.\u001b[0m.\u001b[0m.\u001b[0m.\u001b[0m.\u001b[0m.\u001b[0m.\u001b[0m.\u001b[0m.\u001b[0m.\u001b[0m.\u001b[0m.\u001b[0m.\u001b[0m.\u001b[0m.\u001b[0m.\u001b[0m.\u001b[0m.\u001b[0m.\u001b[0m.\u001b[0m.\u001b[0m.\u001b[0m.\u001b[0m.\u001b[0m.\u001b[0m.\u001b[0m.\u001b[0m.\u001b[0m.\u001b[0m.\u001b[0m.\u001b[0m.\u001b[0m.\u001b[0m.\u001b[0m.\u001b[0m.\u001b[0m.\u001b[0m.\u001b[0m.\u001b[0m.\u001b[0m.\u001b[0m.\u001b[0m.\u001b[0m.\u001b[0m.\u001b[0m.\u001b[0m.\u001b[0m.\u001b[0m.\u001b[0m.\u001b[0m.\u001b[0m.\u001b[0m.\u001b[0m.\u001b[0m.\u001b[0m.\u001b[0m.\u001b[0m.\u001b[0m.\u001b[0m.\u001b[0m.\u001b[0m.\u001b[0m.\u001b[0m.\u001b[0m.\u001b[0m.\u001b[0m.\u001b[0m.\u001b[0m.\u001b[0m.\u001b[0m.\u001b[0m.\u001b[0m.\u001b[0m.\u001b[0m.\u001b[0m.\u001b[0m.\u001b[0m.\u001b[0m.\u001b[0m.\u001b[0m.\u001b[0m.\u001b[0m.\u001b[0m.\u001b[0m.\u001b[0m.\u001b[0m.\u001b[0m.\u001b[0m.\u001b[0m.\u001b[0m.\u001b[0m.\u001b[0m.\u001b[0m.\u001b[0m.\u001b[0m.\u001b[0m.\u001b[0m.\u001b[0m.\u001b[0m.\u001b[0m.\u001b[0m.\u001b[0m.\u001b[0m.\u001b[0m.\u001b[0m.\u001b[0m.\u001b[0m.\u001b[0m.\u001b[0m.\u001b[0m.\u001b[0m.\u001b[0m.\u001b[0m.\u001b[0m.\u001b[0m.\u001b[0m.\u001b[0m.\u001b[0m.\u001b[0m.\u001b[0m.\u001b[0m.\u001b[0m.\u001b[0m.\u001b[0m.\u001b[0m.\u001b[0m.\u001b[0m.\u001b[0m.\u001b[0m.\u001b[0m.\u001b[0m.\u001b[0m.\u001b[0m.\u001b[0m.\u001b[0m.\u001b[0m.\u001b[0m.\u001b[0m.\u001b[0m.\u001b[0m.\u001b[0m.\u001b[0m.\u001b[0m.\u001b[0m.\u001b[0m.\u001b[0m.\u001b[0m.\u001b[0m.\u001b[0m.\u001b[0m.\u001b[0m.\u001b[0m.\u001b[0m.\u001b[0m.\u001b[0m.\u001b[0m.\u001b[0m.\u001b[0m.\u001b[0m.\u001b[0m.\u001b[0m.\u001b[0m.\u001b[0m.\u001b[0m.\u001b[0m.\u001b[0m.\u001b[0m.\u001b[0m.\u001b[0m.\u001b[0m.\u001b[0m.\u001b[0m.\u001b[0m.\u001b[0m.\u001b[0m.\u001b[0m.\u001b[0m.\u001b[0m.\u001b[0m.\u001b[0m.\u001b[0m.\u001b[0m.\u001b[0m.\u001b[0m.\u001b[0m.\u001b[0m.\u001b[0m.\u001b[0m.\u001b[0m.\u001b[0m.\u001b[0m.\u001b[0m.\u001b[0m.\u001b[0m.\u001b[0m.\u001b[0m.\u001b[0m.\u001b[0m.\u001b[0m.\u001b[0m.\u001b[0m.\u001b[0m.\u001b[0m.\u001b[0m.\u001b[0m.\u001b[0m.\u001b[0m.\u001b[0m.\u001b[0m.\u001b[0m.\u001b[0m.\u001b[0m.\u001b[0m.\u001b[0m.\u001b[0m.\u001b[0m.\u001b[0m.\u001b[0m.\u001b[0m.\u001b[0m.\u001b[0m.\u001b[0m.\u001b[0m.\u001b[0m.\u001b[0m.\u001b[0m.\u001b[0m.\u001b[0m.\u001b[0m.\u001b[0m.\u001b[0m.\u001b[0m.\u001b[0m.\u001b[0m.\u001b[0m.\u001b[0m.\u001b[0m.\u001b[0m.\u001b[0m.\u001b[0m.\u001b[0m.\u001b[0m.\u001b[0m.\u001b[0m.\u001b[0m.\u001b[0m.\u001b[0m.\u001b[0m.\u001b[0m.\u001b[0m.\u001b[0m.\u001b[0m.\u001b[0m.\u001b[0m.\u001b[0m.\u001b[0m.\u001b[0m.\u001b[0m.\u001b[0m.\u001b[0m.\u001b[0m.\u001b[0m.\u001b[0m.\u001b[0m.\u001b[0m.\u001b[0m.\u001b[0m.\u001b[0m.\u001b[0m.\u001b[0m.\u001b[0m.\u001b[0m.\u001b[0m.\u001b[0m.\u001b[0m.\u001b[0m.\u001b[0m.\u001b[0m.\u001b[0m.\u001b[0m.\u001b[0m.\u001b[0m.\u001b[0m.\u001b[0m.\u001b[0m.\u001b[0m.\u001b[0m.\u001b[0m.\u001b[0m.\u001b[0m.\u001b[0m.\u001b[0m.\u001b[0m.\u001b[0m.\u001b[0m.\u001b[0m.\u001b[0m.\u001b[0m.\u001b[0m.\u001b[0m.\u001b[0m.\u001b[0m.\u001b[0m.\u001b[0m.\u001b[0m.\u001b[0m.\u001b[0m.\u001b[0m.\u001b[0m.\u001b[0m.\u001b[0m.\u001b[0m.\u001b[0m.\u001b[0m.\u001b[0m.\u001b[0m.\u001b[0m.\u001b[0m.\u001b[0m.\u001b[0m.\u001b[0m.\u001b[0m.\u001b[0m.\u001b[0m.\u001b[0m.\u001b[0m.\u001b[0m.\u001b[0m.\u001b[0m.\u001b[0m.\u001b[0m.\u001b[0m.\u001b[0m.\u001b[0m.\u001b[0m.\u001b[0m.\u001b[0m.\u001b[0m.\u001b[0m.\u001b[0m.\u001b[0m.\u001b[0m.\u001b[0m.\u001b[0m.\u001b[0m.\u001b[0m.\u001b[0m.\u001b[0m.\u001b[0m.\u001b[0m.\u001b[0m.\u001b[0m.\u001b[0m.\u001b[0m.\u001b[0m.\u001b[0m.\u001b[0m.\u001b[0m.\u001b[0m.\u001b[0m.\u001b[0m.\u001b[0m.\u001b[0m.\u001b[0m.\u001b[0m.\u001b[0m.\u001b[0m.\u001b[0m.\u001b[0m.\u001b[0m.\u001b[0m.\u001b[0m.\u001b[0m.\u001b[0m.\u001b[0m.\u001b[0m.\u001b[0m.\u001b[0m.\u001b[0m.\u001b[0m.\u001b[0m.\u001b[0m.\u001b[0m.\u001b[0m.\u001b[0m.\u001b[0m.\u001b[0m.\u001b[0m.\u001b[0m.\u001b[0m.\u001b[0m.\u001b[0m.\u001b[0m.\u001b[0m.\u001b[0m.\u001b[0m.\u001b[0m.\u001b[0m.\u001b[0m.\u001b[0m.\u001b[0m.\u001b[0m.\u001b[0m.\u001b[0m.\u001b[0m.\u001b[0m.\u001b[0m.\u001b[0m.\u001b[0m.\u001b[0m.\u001b[0m.\u001b[0m.\u001b[0m.\u001b[0m.\u001b[0m.\u001b[0m.\u001b[0m.\u001b[0m.\u001b[0m.\u001b[0m.\u001b[0m.\u001b[0m.\u001b[0m.\u001b[0m.\u001b[0m.\u001b[0m.\u001b[0m.\u001b[0m.\u001b[0m.\u001b[0m.\u001b[0m.\u001b[0m.\u001b[0m.\u001b[0m.\u001b[0m.\u001b[0m.\u001b[0m.\u001b[0m.\u001b[0m.\u001b[0m.\u001b[0m.\u001b[0m.\u001b[0m.\u001b[0m.\u001b[0m.\u001b[0m.\u001b[0m.\u001b[0m.\u001b[0m.\u001b[0m.\u001b[0m.\u001b[0m.\u001b[0m.\u001b[0m.\u001b[0m.\u001b[0m.\u001b[0m.\u001b[0m.\u001b[0m.\u001b[0m.\u001b[0m.\u001b[0m.\u001b[0m.\u001b[0m.\u001b[0m.\u001b[0m.\u001b[0m.\u001b[0m.\u001b[0m.\u001b[0m.\u001b[0m.\u001b[0m.\u001b[0m.\u001b[0m.\u001b[0m.\u001b[0m.\u001b[0m.\u001b[0m.\u001b[0m.\u001b[0m.\u001b[0m.\u001b[0m.\u001b[0m.\u001b[0m.\u001b[0m.\u001b[0m.\u001b[0m.\u001b[0m.\u001b[0m.\u001b[0m.\u001b[0m.\u001b[0m.\u001b[0m.\u001b[0m.\u001b[0m.\u001b[0m.\u001b[0m.\u001b[0m.\u001b[0m.\u001b[0m.\u001b[0m.\u001b[0m.\u001b[0m.\u001b[0m.\u001b[0m.\u001b[0m.\u001b[0m.\u001b[0m.\u001b[0m.\u001b[0m.\u001b[0m.\u001b[0m.\u001b[0m.\u001b[0m.\u001b[0m.\u001b[0m.\u001b[0m.\u001b[0m.\u001b[0m.\u001b[0m.\u001b[0m.\u001b[0m.\u001b[0m.\u001b[0m.\u001b[0m.\u001b[0m.\u001b[0m.\u001b[0m.\u001b[0m.\u001b[0m.\u001b[0m.\u001b[0m.\u001b[0m.\u001b[0m.\u001b[0m.\u001b[0m.\u001b[0m.\u001b[0m.\u001b[0m.\u001b[0m.\u001b[0m.\u001b[0m.\u001b[0m.\u001b[0m.\u001b[0m.\u001b[0m.\u001b[0m.\u001b[0m.\u001b[0m.\u001b[0m.\u001b[0m.\u001b[0m.\u001b[0m.\u001b[0m.\u001b[0m.\u001b[0m.\u001b[0m.\u001b[0m.\u001b[0m.\u001b[0m.\u001b[0m.\u001b[0m.\u001b[0m.\u001b[0m.\u001b[0m.\u001b[0m.\u001b[0m.\u001b[0m.\u001b[0m.\u001b[0m.\u001b[0m.\u001b[0m.\u001b[0m.\u001b[0m.\u001b[0m.\u001b[0m.\u001b[0m.\u001b[0m.\u001b[0m.\u001b[0m.\u001b[0m.\u001b[0m.\u001b[0m.\u001b[0m.\u001b[0m.\u001b[0m.\u001b[0m.\u001b[0m.\u001b[0m.\u001b[0m.\u001b[0m.\u001b[0m.\u001b[0m.\u001b[0m.\u001b[0m.\u001b[0m.\u001b[0m.\u001b[0m.\u001b[0m.\u001b[0m.\u001b[0m.\u001b[0m.\u001b[0m.\u001b[0m.\u001b[0m.\u001b[0m.\u001b[0m.\u001b[0m.\u001b[0m.\u001b[0m.\u001b[0m.\u001b[0m.\u001b[0m.\u001b[0m.\u001b[0m.\u001b[0m.\u001b[0m.\u001b[0m.\u001b[0m.\u001b[0m.\u001b[0m.\u001b[0m.\u001b[0m.\u001b[0m.\u001b[0m.\u001b[0m.\u001b[0m.\u001b[0m.\u001b[0m.\u001b[0m.\u001b[0m.\u001b[0m.\u001b[0m.\u001b[0m.\u001b[0m.\u001b[0m.\u001b[0m.\u001b[0m.\u001b[0m.\u001b[0m.\u001b[0m.\u001b[0m.\u001b[0m.\u001b[0m.\u001b[0m.\u001b[0m.\u001b[0m.\u001b[0m.\u001b[0m.\u001b[0m.\u001b[0m.\u001b[0m.\u001b[0m.\u001b[0m.\u001b[0m.\u001b[0m.\u001b[0m.\u001b[0m.\u001b[0m.\u001b[0m.\u001b[0m.\u001b[0m.\u001b[0m.\u001b[0m.\u001b[0m.\u001b[0m.\u001b[0m.\u001b[0m.\u001b[0m.\u001b[0m.\u001b[0m.\u001b[0m.\u001b[0m.\u001b[0m.\u001b[0m.\u001b[0m.\u001b[0m.\u001b[0m.\u001b[0m.\u001b[0m.\u001b[0m.\u001b[0m.\u001b[0m.\u001b[0m.\u001b[0m.\u001b[0m.\u001b[0m.\u001b[0m.\u001b[0m.\u001b[0m.\u001b[0m.\u001b[0m.\u001b[0m.\u001b[0m.\u001b[0m.\u001b[0m.\u001b[0m.\u001b[0m.\u001b[0m.\u001b[0m.\u001b[0m.\u001b[0m.\u001b[0m.\u001b[0m.\u001b[0m.\u001b[0m.\u001b[0m.\u001b[0m.\u001b[0m.\u001b[0m.\u001b[0m.\u001b[0m.\u001b[0m.\u001b[0m.\u001b[0m.\u001b[0m.\u001b[0m.\u001b[0m.\u001b[0m.\u001b[0m.\u001b[0m.\u001b[0m.\u001b[0m.\u001b[0m.\u001b[0m.\u001b[0m.\u001b[0m.\u001b[0m.\u001b[0m.\u001b[0m.\u001b[0m.\u001b[0m.\u001b[0m.\u001b[0m.\u001b[0m.\u001b[0m.\u001b[0m.\u001b[0m.\u001b[0m.\u001b[0m.\u001b[0m.\u001b[0m.\u001b[0m.\u001b[0m.\u001b[0m.\u001b[0m.\u001b[0m.\u001b[0m.\u001b[0m.\u001b[0m.\u001b[0m.\u001b[0m.\u001b[0m.\u001b[0m.\u001b[0m.\u001b[0m.\u001b[0m.\u001b[0m.\u001b[0m.\u001b[0m.\u001b[0m.\u001b[0m.\u001b[0m.\u001b[0m.\u001b[0m.\u001b[0m.\u001b[0m.\u001b[0m.\u001b[0m.\u001b[0m.\u001b[0m.\u001b[0m.\u001b[0m.\u001b[0m.\u001b[0m.\u001b[0m.\u001b[0m.\u001b[0m.\u001b[0m.\u001b[0m.\u001b[0m.\u001b[0m.\u001b[0m.\u001b[0m.\u001b[0m.\u001b[0m.\u001b[0m.\u001b[0m.\u001b[0m.\u001b[0m.\u001b[0m.\u001b[0m.\u001b[0m.\u001b[0m.\u001b[0m.\u001b[0m.\u001b[0m.\u001b[0m.\u001b[0m.\u001b[0m.\u001b[0m.\u001b[0m.\u001b[0m.\u001b[0m.\u001b[0m.\u001b[0m.\u001b[0m.\u001b[0m.\u001b[0m.\u001b[0m.\u001b[0m.\u001b[0m.\u001b[0m.\u001b[0m.\u001b[0m.\u001b[0m.\u001b[0m.\u001b[0m.\u001b[0m.\u001b[0m.\u001b[0m.\u001b[0m.\u001b[0m.\u001b[0m.\u001b[0m.\u001b[0m.\u001b[0m.\u001b[0m.\u001b[0m.\u001b[0m.\u001b[0m.\u001b[0m.\u001b[0m.\u001b[0m.\u001b[0m.\u001b[0m.\u001b[0m.\u001b[0m.\u001b[0m.\u001b[0m.\u001b[0m.\u001b[0m.\u001b[0m.\u001b[0m.\u001b[0m.\u001b[0m.\u001b[0m.\u001b[0m.\u001b[0m.\u001b[0m.\u001b[0m.\u001b[0m.\u001b[0m.\u001b[0m.\u001b[0m.\u001b[0m.\u001b[0m.\u001b[0m.\u001b[0m.\u001b[0m.\u001b[0m.\u001b[0m.\u001b[0m.\u001b[0m.\u001b[0m.\u001b[0m.\u001b[0m.\u001b[0m.\u001b[0m.\u001b[0m.\u001b[0m.\u001b[0m.\u001b[0m.\u001b[0m.\u001b[0m.\u001b[0m.\u001b[0m.\u001b[0m.\u001b[0m.\u001b[0m.\u001b[0m.\u001b[0m.\u001b[0m.\u001b[0m.\u001b[0m.\u001b[0m.\u001b[0m.\u001b[0m.\u001b[0m.\u001b[0m.\u001b[0m.\u001b[0m.\u001b[0m.\u001b[0m.\u001b[0m.\u001b[0m.\u001b[0m.\u001b[0m.\u001b[0m.\u001b[0m.\u001b[0m.\u001b[0m.\u001b[0m.\u001b[0m.\u001b[0m.\u001b[0m.\u001b[0m.\u001b[0m.\u001b[0m.\u001b[0m.\u001b[0m.\u001b[0m.\u001b[0m.\u001b[0m.\u001b[0m.\u001b[0m.\u001b[0m.\u001b[0m.\u001b[0m.\u001b[0m.\u001b[0m.\u001b[0m.\u001b[0m.\u001b[0m.\u001b[0m.\u001b[0m.\u001b[0m.\u001b[0m.\u001b[0m.\u001b[0m.\u001b[0m.\u001b[0m.\u001b[0m.\u001b[0m.\u001b[0m.\u001b[0m.\u001b[0m.\u001b[0m.\u001b[0m.\u001b[0m.\u001b[0m.\u001b[0m.\u001b[0m.\u001b[0m.\u001b[0m.\u001b[0m.\u001b[0m.\u001b[0m.\u001b[0m.\u001b[0m.\u001b[0m.\u001b[0m.\u001b[0m.\u001b[0m.\u001b[0m.\u001b[0m.\u001b[0m.\u001b[0m.\u001b[0m.\u001b[0m.\u001b[0m.\u001b[0m.\u001b[0m.\u001b[0m.\u001b[0m.\u001b[0m.\u001b[0m.\u001b[0m.\u001b[0m.\u001b[0m.\u001b[0m.\u001b[0m.\u001b[0m.\u001b[0m.\u001b[0m.\u001b[0m.\u001b[0m.\u001b[0m.\u001b[0m.\u001b[0m.\u001b[0m.\u001b[0m.\u001b[0m.\u001b[0m.\u001b[0m.\u001b[0m.\u001b[0m.\u001b[0m.\u001b[0m.\u001b[0m.\u001b[0m.\u001b[0m.\u001b[0m.\u001b[0m.\u001b[0m.\u001b[0m.\u001b[0m.\u001b[0m.\u001b[0m.\u001b[0m.\u001b[0m.\u001b[0m.\u001b[0m.\u001b[0m.\u001b[0m.\u001b[0m.\u001b[0m.\u001b[0m.\u001b[0m.\u001b[0m.\u001b[0m.\u001b[0m.\u001b[0m.\u001b[0m.\u001b[0m.\u001b[0m.\u001b[0m.\u001b[0m.\u001b[0m.\u001b[0m.\u001b[0m.\u001b[0m.\u001b[0m.\u001b[0m.\u001b[0m.\u001b[0m.\u001b[0m.\u001b[0m.\u001b[0m.\u001b[0m.\u001b[0m.\u001b[0m.\u001b[0m.\u001b[0m.\u001b[0m.\u001b[0m.\u001b[0m.\u001b[0m.\u001b[0m.\u001b[0m.\u001b[0m.\u001b[0m.\u001b[0m.\u001b[0m.\u001b[0m.\u001b[0m.\u001b[0m.\u001b[0m.\u001b[0m.\u001b[0m.\u001b[0m.\u001b[0m\u001b[32m\b✓\u001b[0m\u001b[?25h\u001b[0m\n",
            "Model name: en_best.mlmodel\u001b[0m\n"
          ],
          "name": "stdout"
        }
      ]
    },
    {
      "cell_type": "code",
      "metadata": {
        "id": "lHiybWZBYCYi",
        "outputId": "b2afd8e9-c7d7-4f67-e40a-2c667f242cd4",
        "colab": {
          "base_uri": "https://localhost:8080/",
          "height": 51
        }
      },
      "source": [
        "! kraken list"
      ],
      "execution_count": 5,
      "outputs": [
        {
          "output_type": "stream",
          "text": [
            "Retrieving model list \u001b[0m.\u001b[0m.\u001b[0m\u001b[32m\b✓\u001b[0m\u001b[?25h\n",
            "\u001b[0m10.5281/zenodo.2577813 (pytorch) - A generalized model for English printed text\u001b[0m\n"
          ],
          "name": "stdout"
        }
      ]
    },
    {
      "cell_type": "code",
      "metadata": {
        "id": "UkIi_Kl2DUaq",
        "outputId": "d71d52cf-aa17-48a8-8d95-776181d3ef90",
        "colab": {
          "base_uri": "https://localhost:8080/",
          "height": 34
        }
      },
      "source": [
        "! kraken -i image.png bw.png binarize"
      ],
      "execution_count": 7,
      "outputs": [
        {
          "output_type": "stream",
          "text": [
            "Binarizing\t\u001b[0m\u001b[32m✓\u001b[0m\n"
          ],
          "name": "stdout"
        }
      ]
    },
    {
      "cell_type": "code",
      "metadata": {
        "id": "i-J51b5UYNUt",
        "outputId": "9d177954-7f3a-4620-a501-62b6597a70fe",
        "colab": {
          "base_uri": "https://localhost:8080/",
          "height": 173
        }
      },
      "source": [
        "! kraken -i image.png image.txt binarize segment ocr -m en_best.mlmodel"
      ],
      "execution_count": 8,
      "outputs": [
        {
          "output_type": "stream",
          "text": [
            "WARNING:root:scikit-learn version 0.22.2.post1 is not supported. Minimum required version: 0.17. Maximum required version: 0.19.2. Disabling scikit-learn conversion API.\n",
            "2020-10-20 02:07:49.406258: I tensorflow/stream_executor/platform/default/dso_loader.cc:48] Successfully opened dynamic library libcudart.so.10.1\n",
            "WARNING:root:Keras version 2.4.3 detected. Last version known to be fully compatible of Keras is 2.2.4 .\n",
            "Loading RNN default\t\u001b[0m\u001b[32m✓\u001b[0m\n",
            "Binarizing\t\u001b[0m\u001b[32m✓\u001b[0m\n",
            "Segmenting\t\u001b[0m\u001b[32m✓\u001b[0m\n",
            "\u001b[?25lProcessing  [####################################]  100%\u001b[?25h\n",
            "Writing recognition results for /tmp/tmpdl_bamuj\t\u001b[0m\u001b[32m✓\u001b[0m\n"
          ],
          "name": "stdout"
        }
      ]
    },
    {
      "cell_type": "code",
      "metadata": {
        "id": "u54LmPfaCDSs",
        "outputId": "f47f6244-917f-4c98-82ac-b6ed412a6673",
        "colab": {
          "base_uri": "https://localhost:8080/",
          "height": 105
        }
      },
      "source": [
        "!kraken -i bw.png lines.json segment"
      ],
      "execution_count": 9,
      "outputs": [
        {
          "output_type": "stream",
          "text": [
            "WARNING:root:scikit-learn version 0.22.2.post1 is not supported. Minimum required version: 0.17. Maximum required version: 0.19.2. Disabling scikit-learn conversion API.\n",
            "2020-10-20 02:08:06.223048: I tensorflow/stream_executor/platform/default/dso_loader.cc:48] Successfully opened dynamic library libcudart.so.10.1\n",
            "WARNING:root:Keras version 2.4.3 detected. Last version known to be fully compatible of Keras is 2.2.4 .\n",
            "Segmenting\t\u001b[0m\u001b[32m✓\u001b[0m\n"
          ],
          "name": "stdout"
        }
      ]
    },
    {
      "cell_type": "code",
      "metadata": {
        "id": "wHMymkGfGE6-",
        "outputId": "a7926bf9-5b75-4aa8-843f-4dee140cf668",
        "colab": {
          "base_uri": "https://localhost:8080/",
          "height": 119
        }
      },
      "source": [
        "! kraken get --help "
      ],
      "execution_count": 20,
      "outputs": [
        {
          "output_type": "stream",
          "text": [
            "Usage: kraken get [OPTIONS] MODEL_ID\n",
            "\n",
            "  Retrieves a model from the repository.\n",
            "\n",
            "Options:\n",
            "  --help  Show this message and exit.\n"
          ],
          "name": "stdout"
        }
      ]
    },
    {
      "cell_type": "code",
      "metadata": {
        "id": "UrdIniS2Gtsv",
        "outputId": "30dba85d-a1ee-43ed-d792-0d530adecfb3",
        "colab": {
          "base_uri": "https://localhost:8080/",
          "height": 343
        }
      },
      "source": [
        "!ketos train -o training/output/japanese training/input/*.png"
      ],
      "execution_count": 29,
      "outputs": [
        {
          "output_type": "stream",
          "text": [
            "WARNING:root:scikit-learn version 0.22.2.post1 is not supported. Minimum required version: 0.17. Maximum required version: 0.19.2. Disabling scikit-learn conversion API.\n",
            "2020-10-20 03:05:32.532531: I tensorflow/stream_executor/platform/default/dso_loader.cc:48] Successfully opened dynamic library libcudart.so.10.1\n",
            "WARNING:root:Keras version 2.4.3 detected. Last version known to be fully compatible of Keras is 2.2.4 .\n",
            "\u001b[33m[3.6710] alphabet mismatch: chars in training set only: {'ち', 'ル', 'れ', 'ば', '銀', 'ッ', 'が', 'ひ', 'ー', '働', 'い', '勞', '上', '説', '卽', 'ラ', 'ふ', '賃', 'あ', 'サ'} (not included in accuracy test during training) \u001b[0m\n",
            "WARNING:kraken:alphabet mismatch: chars in training set only: {'ち', 'ル', 'れ', 'ば', '銀', 'ッ', 'が', 'ひ', 'ー', '働', 'い', '勞', '上', '説', '卽', 'ラ', 'ふ', '賃', 'あ', 'サ'} (not included in accuracy test during training)\n",
            "\u001b[33m[3.6712] alphabet mismatch: chars in validation set only: {'女', 'こ', 'ニ', '一', '多', '傘', '本', 'く', '男', 'を', '合', '場', '人', 'で', 'す'} (not trained) \u001b[0m\n",
            "WARNING:kraken:alphabet mismatch: chars in validation set only: {'女', 'こ', 'ニ', '一', '多', '傘', '本', 'く', '男', 'を', '合', '場', '人', 'で', 'す'} (not trained)\n",
            "Initializing model \u001b[0m\u001b[32m✓\u001b[0m\n",
            "/usr/local/lib/python3.6/dist-packages/torch/nn/functional.py:973: UserWarning: Mixed memory format inputs detected while calling the operator. The operator will output channels_last tensor even if some of the inputs are not in channels_last format. (Triggered internally at  /pytorch/aten/src/ATen/native/TensorIterator.cpp:924.)\n",
            "  else _VF.dropout(input, p, training))\n",
            "Accuracy report (1) 0.0465 43 41\u001b[0m\n",
            "Accuracy report (2) 0.0465 43 41\u001b[0m\n",
            "Accuracy report (3) 0.0465 43 41\u001b[0m\n",
            "\u001b[?25lstage 4/∞  [####################################]  2/2Accuracy report (4) 0.0465 43 41\u001b[0m\n",
            "\u001b[?25lstage 5/∞  [####################################]  2/2Accuracy report (5) 0.0465 43 41\u001b[0m\n",
            "\u001b[?25lstage 6/∞  [####################################]  2/2Accuracy report (6) 0.0465 43 41\u001b[0m\n",
            "\u001b[?25h\n",
            "Moving best model training/output/japanese_1.mlmodel (0.046511627906976744) to training/output/japanese_best.mlmodel\u001b[0m\n"
          ],
          "name": "stdout"
        }
      ]
    },
    {
      "cell_type": "code",
      "metadata": {
        "id": "iEOiy-Gv1SY6",
        "outputId": "f653a41d-3ee6-4a81-c843-3ac3f525a7e8",
        "colab": {
          "base_uri": "https://localhost:8080/",
          "height": 802
        }
      },
      "source": [
        "\n",
        "!ketos test -m training/output//japanese_best.mlmodel test.png"
      ],
      "execution_count": 30,
      "outputs": [
        {
          "output_type": "stream",
          "text": [
            "WARNING:root:scikit-learn version 0.22.2.post1 is not supported. Minimum required version: 0.17. Maximum required version: 0.19.2. Disabling scikit-learn conversion API.\n",
            "2020-10-20 03:06:10.687407: I tensorflow/stream_executor/platform/default/dso_loader.cc:48] Successfully opened dynamic library libcudart.so.10.1\n",
            "WARNING:root:Keras version 2.4.3 detected. Last version known to be fully compatible of Keras is 2.2.4 .\n",
            "Loading model training/output//japanese_best.mlmodel\t\u001b[0m\u001b[32m✓\u001b[0m\n",
            "Evaluating training/output//japanese_best.mlmodel\u001b[0m\n",
            "=== report  ===\n",
            "\n",
            "43\tCharacters\n",
            "42\tErrors\n",
            "2.33%\tAccuracy\n",
            "\n",
            "40\tInsertions\n",
            "0\tDeletions\n",
            "2\tSubstitutions\n",
            "\n",
            "Count\tMissed\t%Right\n",
            "9\t8\t11.11%\tHiragana\n",
            "10\t10\t0.00%\tHan\n",
            "22\t22\t0.00%\tCommon\n",
            "2\t2\t0.00%\tKatakana\n",
            "\n",
            "Errors\tCorrect-Generated\n",
            "20\t{ 0xa } - {  }\n",
            "2\t{ ニ } - {  }\n",
            "2\t{ 人 } - {  }\n",
            "1\t{ 一 } - { SPACE }\n",
            "1\t{ 本 } - {  }\n",
            "1\t{ 0xa } - { ー }\n",
            "1\t{ 傘 } - {  }\n",
            "1\t{ を } - {  }\n",
            "1\t{ で } - {  }\n",
            "1\t{ さ } - {  }\n",
            "1\t{ す } - {  }\n",
            "1\t{ こ } - {  }\n",
            "1\t{ と } - {  }\n",
            "1\t{ 。 } - {  }\n",
            "1\t{ 多 } - {  }\n",
            "1\t{ く } - {  }\n",
            "1\t{ 男 } - {  }\n",
            "1\t{ 女 } - {  }\n",
            "1\t{ の } - {  }\n",
            "1\t{ 場 } - {  }\n",
            "1\t{ 合 } - {  }\n",
            "\u001b[0m\n",
            "Average accuracy: 2.33%, (stddev: 0.00)\u001b[0m\n"
          ],
          "name": "stdout"
        }
      ]
    },
    {
      "cell_type": "code",
      "metadata": {
        "id": "eoY1E5jz3W7D"
      },
      "source": [
        ""
      ],
      "execution_count": null,
      "outputs": []
    }
  ]
}